{
 "cells": [
  {
   "cell_type": "markdown",
   "id": "cb995a23",
   "metadata": {},
   "source": [
    "### Table of Contents\n",
    "\n",
    "* [1. Imports des librairies ](#Imports1)\n",
    "* [2. Imports des bases des données ](#DATA2)\n",
    "* [3. Modèle final ](#MF3)"
   ]
  },
  {
   "cell_type": "markdown",
   "id": "fbd06f8e",
   "metadata": {},
   "source": [
    "### 1.Imports des librairies  <a class=\"anchor\" id=\"Imports1\"></a>\n",
    "\n",
    "### 2.Imports de la base des données  <a class=\"anchor\" id=\"DATA2\"></a>\n",
    "\n",
    "### 3.Modèle final  <a class=\"anchor\" id=\"MF3\"></a>"
   ]
  },
  {
   "cell_type": "markdown",
   "id": "f4cb6b0e",
   "metadata": {},
   "source": [
    "### 1.Imports des librairies  <a class=\"anchor\" id=\"Imports1\"></a>"
   ]
  },
  {
   "cell_type": "code",
   "execution_count": 1,
   "id": "32b33db9",
   "metadata": {},
   "outputs": [],
   "source": [
    "#python librairies\n",
    "import numpy as np\n",
    "import pandas as pd\n",
    "from matplotlib import pyplot as plt\n",
    "from ast import literal_eval\n",
    "from sklearn.feature_extraction.text import TfidfVectorizer\n",
    "from sklearn.preprocessing import MultiLabelBinarizer\n",
    "from sklearn.model_selection import train_test_split\n",
    "from sklearn.multiclass import OneVsRestClassifier\n",
    "from sklearn.linear_model import LogisticRegression\n",
    "from sklearn.pipeline import Pipeline\n",
    "import sklearn.metrics as metrics"
   ]
  },
  {
   "cell_type": "markdown",
   "id": "b715a56c",
   "metadata": {},
   "source": [
    "### 2.Imports de la base des données  <a class=\"anchor\" id=\"DATA2\"></a>"
   ]
  },
  {
   "cell_type": "code",
   "execution_count": 2,
   "id": "87fafdc3",
   "metadata": {
    "scrolled": true
   },
   "outputs": [
    {
     "data": {
      "text/html": [
       "<div>\n",
       "<style scoped>\n",
       "    .dataframe tbody tr th:only-of-type {\n",
       "        vertical-align: middle;\n",
       "    }\n",
       "\n",
       "    .dataframe tbody tr th {\n",
       "        vertical-align: top;\n",
       "    }\n",
       "\n",
       "    .dataframe thead th {\n",
       "        text-align: right;\n",
       "    }\n",
       "</style>\n",
       "<table border=\"1\" class=\"dataframe\">\n",
       "  <thead>\n",
       "    <tr style=\"text-align: right;\">\n",
       "      <th></th>\n",
       "      <th>Title</th>\n",
       "      <th>Body</th>\n",
       "      <th>Tags</th>\n",
       "      <th>text_comb</th>\n",
       "    </tr>\n",
       "  </thead>\n",
       "  <tbody>\n",
       "    <tr>\n",
       "      <th>0</th>\n",
       "      <td>['statement', 'handle', 'react', 'native', 'ex...</td>\n",
       "      <td>['library', 'tree', 'hurt', 'presets', 'locale...</td>\n",
       "      <td>['io', 'javascript', 'react', 'android']</td>\n",
       "      <td>['library', 'tree', 'hurt', 'presets', 'locale...</td>\n",
       "    </tr>\n",
       "    <tr>\n",
       "      <th>1</th>\n",
       "      <td>['message', 'user', 'phonegap', 'cordova', 'ap...</td>\n",
       "      <td>['username', 'need', 'particular', 'phonegap',...</td>\n",
       "      <td>['mvc', 'net', 'android', 'asp']</td>\n",
       "      <td>['username', 'need', 'particular', 'phonegap',...</td>\n",
       "    </tr>\n",
       "    <tr>\n",
       "      <th>2</th>\n",
       "      <td>['undeclared', 'identifier', 'trackbar', 'comm...</td>\n",
       "      <td>['problem', 'file', 'undeclared', 'trackbar', ...</td>\n",
       "      <td>['window', 'c']</td>\n",
       "      <td>['problem', 'file', 'undeclared', 'trackbar', ...</td>\n",
       "    </tr>\n",
       "    <tr>\n",
       "      <th>3</th>\n",
       "      <td>['woocommerce', 'product', 'create', 'programm...</td>\n",
       "      <td>['problem', 'click', 'product', 'edit', 'shop'...</td>\n",
       "      <td>['mysql', 'php']</td>\n",
       "      <td>['problem', 'click', 'product', 'edit', 'shop'...</td>\n",
       "    </tr>\n",
       "    <tr>\n",
       "      <th>4</th>\n",
       "      <td>['ubuntu', 'bit', 'java', 'possible']</td>\n",
       "      <td>['need', 'run', 'sun', 'download', 'us', 'foll...</td>\n",
       "      <td>['linux', 'java']</td>\n",
       "      <td>['run', 'need', 'sun', 'download', 'us', 'foll...</td>\n",
       "    </tr>\n",
       "    <tr>\n",
       "      <th>...</th>\n",
       "      <td>...</td>\n",
       "      <td>...</td>\n",
       "      <td>...</td>\n",
       "      <td>...</td>\n",
       "    </tr>\n",
       "    <tr>\n",
       "      <th>33159</th>\n",
       "      <td>['python', 'file', 'read']</td>\n",
       "      <td>['pattern', 'file', 'follow', 'point', 'panda'...</td>\n",
       "      <td>['file', 'python']</td>\n",
       "      <td>['pattern', 'file', 'read', 'panda', 'point', ...</td>\n",
       "    </tr>\n",
       "    <tr>\n",
       "      <th>33160</th>\n",
       "      <td>['j', 'file', 'path', 'static', 'node']</td>\n",
       "      <td>['file', 'run', 'question', 'server', 'console...</td>\n",
       "      <td>['html', 'j', 'file', 'javascript', 'server', ...</td>\n",
       "      <td>['file', 'run', 'question', 'server', 'console...</td>\n",
       "    </tr>\n",
       "    <tr>\n",
       "      <th>33161</th>\n",
       "      <td>['xml', 'resource', 'library', 'module', 'font...</td>\n",
       "      <td>['library', 'file', 'directly', 'point', 'unab...</td>\n",
       "      <td>['xml', 'android']</td>\n",
       "      <td>['library', 'file', 'directly', 'point', 'unab...</td>\n",
       "    </tr>\n",
       "    <tr>\n",
       "      <th>33162</th>\n",
       "      <td>['file', 'interfere', 'redirect', 'htaccess', ...</td>\n",
       "      <td>['up', 'work', 'need', 'file', 'ltd', 'forward...</td>\n",
       "      <td>['php']</td>\n",
       "      <td>['up', 'work', 'need', 'file', 'ltd', 'forward...</td>\n",
       "    </tr>\n",
       "    <tr>\n",
       "      <th>33163</th>\n",
       "      <td>['lazy', 'load', 'properly', 'container', 'blo...</td>\n",
       "      <td>['approach', 'account', 'timestamp', 'need', '...</td>\n",
       "      <td>['python']</td>\n",
       "      <td>['approach', 'account', 'need', 'timestamp', '...</td>\n",
       "    </tr>\n",
       "  </tbody>\n",
       "</table>\n",
       "<p>33164 rows × 4 columns</p>\n",
       "</div>"
      ],
      "text/plain": [
       "                                                   Title  \\\n",
       "0      ['statement', 'handle', 'react', 'native', 'ex...   \n",
       "1      ['message', 'user', 'phonegap', 'cordova', 'ap...   \n",
       "2      ['undeclared', 'identifier', 'trackbar', 'comm...   \n",
       "3      ['woocommerce', 'product', 'create', 'programm...   \n",
       "4                  ['ubuntu', 'bit', 'java', 'possible']   \n",
       "...                                                  ...   \n",
       "33159                         ['python', 'file', 'read']   \n",
       "33160            ['j', 'file', 'path', 'static', 'node']   \n",
       "33161  ['xml', 'resource', 'library', 'module', 'font...   \n",
       "33162  ['file', 'interfere', 'redirect', 'htaccess', ...   \n",
       "33163  ['lazy', 'load', 'properly', 'container', 'blo...   \n",
       "\n",
       "                                                    Body  \\\n",
       "0      ['library', 'tree', 'hurt', 'presets', 'locale...   \n",
       "1      ['username', 'need', 'particular', 'phonegap',...   \n",
       "2      ['problem', 'file', 'undeclared', 'trackbar', ...   \n",
       "3      ['problem', 'click', 'product', 'edit', 'shop'...   \n",
       "4      ['need', 'run', 'sun', 'download', 'us', 'foll...   \n",
       "...                                                  ...   \n",
       "33159  ['pattern', 'file', 'follow', 'point', 'panda'...   \n",
       "33160  ['file', 'run', 'question', 'server', 'console...   \n",
       "33161  ['library', 'file', 'directly', 'point', 'unab...   \n",
       "33162  ['up', 'work', 'need', 'file', 'ltd', 'forward...   \n",
       "33163  ['approach', 'account', 'timestamp', 'need', '...   \n",
       "\n",
       "                                                    Tags  \\\n",
       "0               ['io', 'javascript', 'react', 'android']   \n",
       "1                       ['mvc', 'net', 'android', 'asp']   \n",
       "2                                        ['window', 'c']   \n",
       "3                                       ['mysql', 'php']   \n",
       "4                                      ['linux', 'java']   \n",
       "...                                                  ...   \n",
       "33159                                 ['file', 'python']   \n",
       "33160  ['html', 'j', 'file', 'javascript', 'server', ...   \n",
       "33161                                 ['xml', 'android']   \n",
       "33162                                            ['php']   \n",
       "33163                                         ['python']   \n",
       "\n",
       "                                               text_comb  \n",
       "0      ['library', 'tree', 'hurt', 'presets', 'locale...  \n",
       "1      ['username', 'need', 'particular', 'phonegap',...  \n",
       "2      ['problem', 'file', 'undeclared', 'trackbar', ...  \n",
       "3      ['problem', 'click', 'product', 'edit', 'shop'...  \n",
       "4      ['run', 'need', 'sun', 'download', 'us', 'foll...  \n",
       "...                                                  ...  \n",
       "33159  ['pattern', 'file', 'read', 'panda', 'point', ...  \n",
       "33160  ['file', 'run', 'question', 'server', 'console...  \n",
       "33161  ['library', 'file', 'directly', 'point', 'unab...  \n",
       "33162  ['up', 'work', 'need', 'file', 'ltd', 'forward...  \n",
       "33163  ['approach', 'account', 'need', 'timestamp', '...  \n",
       "\n",
       "[33164 rows x 4 columns]"
      ]
     },
     "execution_count": 2,
     "metadata": {},
     "output_type": "execute_result"
    }
   ],
   "source": [
    "#Import the cleaned dataset\n",
    "data=pd.read_csv(filepath_or_buffer='data_cleaned.csv',sep=';')\n",
    "data"
   ]
  },
  {
   "cell_type": "code",
   "execution_count": 3,
   "id": "e3d7c51c",
   "metadata": {},
   "outputs": [],
   "source": [
    "from ast import literal_eval\n",
    "for col in ['Title', 'Body', 'Tags', 'text_comb']:\n",
    "     data[col] = data[col].apply(literal_eval)"
   ]
  },
  {
   "cell_type": "code",
   "execution_count": 4,
   "id": "11a474a5",
   "metadata": {},
   "outputs": [
    {
     "data": {
      "text/html": [
       "<div>\n",
       "<style scoped>\n",
       "    .dataframe tbody tr th:only-of-type {\n",
       "        vertical-align: middle;\n",
       "    }\n",
       "\n",
       "    .dataframe tbody tr th {\n",
       "        vertical-align: top;\n",
       "    }\n",
       "\n",
       "    .dataframe thead th {\n",
       "        text-align: right;\n",
       "    }\n",
       "</style>\n",
       "<table border=\"1\" class=\"dataframe\">\n",
       "  <thead>\n",
       "    <tr style=\"text-align: right;\">\n",
       "      <th></th>\n",
       "      <th>Title</th>\n",
       "      <th>Body</th>\n",
       "      <th>Tags</th>\n",
       "      <th>text_comb</th>\n",
       "    </tr>\n",
       "  </thead>\n",
       "  <tbody>\n",
       "    <tr>\n",
       "      <th>0</th>\n",
       "      <td>[statement, handle, react, native, exception, ...</td>\n",
       "      <td>[library, tree, hurt, presets, locale, found, ...</td>\n",
       "      <td>[io, javascript, react, android]</td>\n",
       "      <td>[library, tree, hurt, presets, locale, found, ...</td>\n",
       "    </tr>\n",
       "    <tr>\n",
       "      <th>1</th>\n",
       "      <td>[message, user, phonegap, cordova, app, specif...</td>\n",
       "      <td>[username, need, particular, phonegap, time, a...</td>\n",
       "      <td>[mvc, net, android, asp]</td>\n",
       "      <td>[username, need, particular, phonegap, time, a...</td>\n",
       "    </tr>\n",
       "    <tr>\n",
       "      <th>2</th>\n",
       "      <td>[undeclared, identifier, trackbar, commctrl, w...</td>\n",
       "      <td>[problem, file, undeclared, trackbar, bat, ins...</td>\n",
       "      <td>[window, c]</td>\n",
       "      <td>[problem, file, undeclared, trackbar, bat, com...</td>\n",
       "    </tr>\n",
       "    <tr>\n",
       "      <th>3</th>\n",
       "      <td>[woocommerce, product, create, programmatically]</td>\n",
       "      <td>[problem, click, product, edit, shop, enter, a...</td>\n",
       "      <td>[mysql, php]</td>\n",
       "      <td>[problem, click, product, edit, shop, enter, a...</td>\n",
       "    </tr>\n",
       "    <tr>\n",
       "      <th>4</th>\n",
       "      <td>[ubuntu, bit, java, possible]</td>\n",
       "      <td>[need, run, sun, download, us, follow, tomcat,...</td>\n",
       "      <td>[linux, java]</td>\n",
       "      <td>[run, need, sun, download, us, follow, tomcat,...</td>\n",
       "    </tr>\n",
       "  </tbody>\n",
       "</table>\n",
       "</div>"
      ],
      "text/plain": [
       "                                               Title  \\\n",
       "0  [statement, handle, react, native, exception, ...   \n",
       "1  [message, user, phonegap, cordova, app, specif...   \n",
       "2  [undeclared, identifier, trackbar, commctrl, w...   \n",
       "3   [woocommerce, product, create, programmatically]   \n",
       "4                      [ubuntu, bit, java, possible]   \n",
       "\n",
       "                                                Body  \\\n",
       "0  [library, tree, hurt, presets, locale, found, ...   \n",
       "1  [username, need, particular, phonegap, time, a...   \n",
       "2  [problem, file, undeclared, trackbar, bat, ins...   \n",
       "3  [problem, click, product, edit, shop, enter, a...   \n",
       "4  [need, run, sun, download, us, follow, tomcat,...   \n",
       "\n",
       "                               Tags  \\\n",
       "0  [io, javascript, react, android]   \n",
       "1          [mvc, net, android, asp]   \n",
       "2                       [window, c]   \n",
       "3                      [mysql, php]   \n",
       "4                     [linux, java]   \n",
       "\n",
       "                                           text_comb  \n",
       "0  [library, tree, hurt, presets, locale, found, ...  \n",
       "1  [username, need, particular, phonegap, time, a...  \n",
       "2  [problem, file, undeclared, trackbar, bat, com...  \n",
       "3  [problem, click, product, edit, shop, enter, a...  \n",
       "4  [run, need, sun, download, us, follow, tomcat,...  "
      ]
     },
     "execution_count": 4,
     "metadata": {},
     "output_type": "execute_result"
    }
   ],
   "source": [
    "data.head()\n"
   ]
  },
  {
   "cell_type": "markdown",
   "id": "5375e762",
   "metadata": {},
   "source": [
    "### 3.Modèle final  <a class=\"anchor\" id=\"MF3\"></a>"
   ]
  },
  {
   "cell_type": "code",
   "execution_count": 5,
   "id": "76586be0",
   "metadata": {},
   "outputs": [
    {
     "name": "stdout",
     "output_type": "stream",
     "text": [
      "Shape of X for Full_doc: (33164, 12734)\n",
      "Shape of y:              (33164, 50)\n",
      "CPU times: total: 3.83 s\n",
      "Wall time: 4.34 s\n"
     ]
    }
   ],
   "source": [
    "%%time\n",
    "# Define X and y\n",
    "X = data[\"text_comb\"]\n",
    "y = data[\"Tags\"]\n",
    "\n",
    "# Initialize the \"CountVectorizer\" TFIDF for text_comb\n",
    "vectorizer = TfidfVectorizer(analyzer=\"word\",\n",
    "                             max_df=.97,\n",
    "                             min_df= 3,\n",
    "                             tokenizer=None,\n",
    "                             preprocessor=' '.join,\n",
    "                             stop_words=None,\n",
    "                             lowercase=False)\n",
    "vectorizer=vectorizer.fit(X)\n",
    "X_tfidf = vectorizer.transform(X)\n",
    "\n",
    "print(\"Shape of X for Full_doc: {}\".format(X_tfidf.shape))\n",
    "\n",
    "# Multilabel binarizer for targets\n",
    "multilabel_binarizer = MultiLabelBinarizer()\n",
    "multilabel_binarizer=multilabel_binarizer.fit(y)\n",
    "y_binarized = multilabel_binarizer.transform(y)\n",
    "\n",
    "print(f\"Shape of y:              {y_binarized.shape}\")"
   ]
  },
  {
   "cell_type": "code",
   "execution_count": 6,
   "id": "850705f1",
   "metadata": {},
   "outputs": [
    {
     "name": "stdout",
     "output_type": "stream",
     "text": [
      "X_train shape : (24873, 12734)\n",
      "X_test shape : (8291, 12734)\n",
      "y_train shape : (24873, 50)\n",
      "y_test shape : (8291, 50)\n"
     ]
    }
   ],
   "source": [
    "# Create train and test split (25%)\n",
    "X_train, X_test, y_train, y_test = train_test_split(X_tfidf, y_binarized,\n",
    "                                                    test_size=0.25, random_state=42)\n",
    "print(\"X_train shape : {}\".format(X_train.shape))\n",
    "print(\"X_test shape : {}\".format(X_test.shape))\n",
    "print(\"y_train shape : {}\".format(y_train.shape))\n",
    "print(\"y_test shape : {}\".format(y_test.shape))"
   ]
  },
  {
   "cell_type": "code",
   "execution_count": 7,
   "id": "c485c759",
   "metadata": {},
   "outputs": [],
   "source": [
    "import time"
   ]
  },
  {
   "cell_type": "code",
   "execution_count": 8,
   "id": "f1e1cd61",
   "metadata": {},
   "outputs": [],
   "source": [
    "#Modèle LogisticRegressor\n",
    "reg_logit_clf =OneVsRestClassifier(LogisticRegression(C=1.0,max_iter=100))\n",
    "time1 = time.time()\n",
    "reg_logit_clf=reg_logit_clf.fit(X_train, y_train)\n",
    "#Prediction\n",
    "reg_logit_pred = reg_logit_clf.predict_proba(X_test)"
   ]
  },
  {
   "cell_type": "code",
   "execution_count": 9,
   "id": "e6680dfa",
   "metadata": {},
   "outputs": [],
   "source": [
    "threshold=0.05"
   ]
  },
  {
   "cell_type": "code",
   "execution_count": 10,
   "id": "246ec3c7",
   "metadata": {},
   "outputs": [],
   "source": [
    "from sklearn.metrics import average_precision_score, roc_auc_score, roc_curve"
   ]
  },
  {
   "cell_type": "code",
   "execution_count": 11,
   "id": "319e9eb3",
   "metadata": {},
   "outputs": [
    {
     "name": "stdout",
     "output_type": "stream",
     "text": [
      "----------------------------------------------------------------------------------------------------\n",
      "Print 5 first predicted Tags vs true Tags\n",
      "----------------------------------------------------------------------------------------------------\n",
      "Predicted: [('android', 'api', 'asp', 'c#', 'data', 'file', 'j', 'java', 'javascript', 'mvc', 'net', 'php', 'server', 'service', 'spring', 'web', 'window'), ('ajax', 'android', 'apache', 'api', 'c#', 'data', 'file', 'html', 'java', 'javascript', 'jquery', 'json', 'mysql', 'net', 'php', 'python', 'service', 'spring', 'web'), ('asp', 'c#', 'cs', 'html', 'j', 'javascript', 'jquery', 'net', 'react', 'reactjs', 'test', 'web'), ('amazon', 'android', 'apache', 'api', 'c#', 'c++', 'google', 'java', 'net', 'python', 'service', 'spring', 'web')]\n",
      "True: [('c#', 'net', 'service', 'web'), ('php',), ('javascript',), ('amazon', 'android', 'image', 'service', 'web')]\n"
     ]
    }
   ],
   "source": [
    "# Inverse transform\n",
    "#threshold = cut_off(y_test,reg_logit_pred)\n",
    "reg_logit_preds = (reg_logit_pred>threshold)*1\n",
    "y_pred_inversed = multilabel_binarizer.inverse_transform(reg_logit_preds)\n",
    "y_test_inversed = multilabel_binarizer.inverse_transform(y_test)\n",
    "\n",
    "print(\"-\"*100)\n",
    "print(\"Print 5 first predicted Tags vs true Tags\")\n",
    "print(\"-\" * 100)\n",
    "print(\"Predicted:\", y_pred_inversed[0:4])\n",
    "print(\"True:\", y_test_inversed[0:4])"
   ]
  },
  {
   "cell_type": "code",
   "execution_count": 12,
   "id": "82ba20a9",
   "metadata": {},
   "outputs": [],
   "source": [
    "import pickle"
   ]
  },
  {
   "cell_type": "code",
   "execution_count": 13,
   "id": "5e24c149",
   "metadata": {},
   "outputs": [],
   "source": [
    "pickle.dump(reg_logit_clf,open('reg_logit_model.pkl','wb'))"
   ]
  },
  {
   "cell_type": "code",
   "execution_count": 14,
   "id": "ec2413c8",
   "metadata": {},
   "outputs": [],
   "source": [
    "pickle.dump(vectorizer, open(\"vectorizer.pkl\", \"wb\")) "
   ]
  },
  {
   "cell_type": "code",
   "execution_count": 15,
   "id": "afc18755",
   "metadata": {},
   "outputs": [],
   "source": [
    "pickle.dump(multilabel_binarizer, open(\"multilabel_binarizer.pkl\", \"wb\"))"
   ]
  }
 ],
 "metadata": {
  "kernelspec": {
   "display_name": "Python 3 (ipykernel)",
   "language": "python",
   "name": "python3"
  },
  "language_info": {
   "codemirror_mode": {
    "name": "ipython",
    "version": 3
   },
   "file_extension": ".py",
   "mimetype": "text/x-python",
   "name": "python",
   "nbconvert_exporter": "python",
   "pygments_lexer": "ipython3",
   "version": "3.11.3"
  }
 },
 "nbformat": 4,
 "nbformat_minor": 5
}
